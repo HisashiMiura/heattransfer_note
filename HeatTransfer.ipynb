{
 "cells": [
  {
   "cell_type": "markdown",
   "metadata": {},
   "source": [
    "# 熱伝達\n",
    "\n",
    "$q_c = \\alpha_c \\cdot (\\theta_s - \\theta_f)$\n",
    "\n",
    "* $q_c$ ... 対流による伝熱量 [$W/m^2$]\n",
    "* $\\alpha_c$ ... 熱伝達率 [$W/m^2\\cdot K$]\n",
    "* $\\theta_s$ ... 個体壁表面温 [${}^\\circ\\mathrm{C}$]\n",
    "* $\\theta_f$ ... 壁体から十分離れた流体(空気)の温度 [${}^\\circ\\mathrm{C}$]\n",
    "\n",
    "(最新建築環境工学 P.35, P.185)"
   ]
  },
  {
   "cell_type": "code",
   "execution_count": 93,
   "metadata": {
    "collapsed": false
   },
   "outputs": [],
   "source": [
    "#matplotlib inline\n",
    "\n",
    "import matplotlib.pyplot as plt\n",
    "import math\n"
   ]
  },
  {
   "cell_type": "code",
   "execution_count": 75,
   "metadata": {
    "collapsed": true
   },
   "outputs": [],
   "source": [
    "#空気熱容量の計算\n",
    "\n",
    "ro_air = 1.024  # [kg/m^3]  （920hPa,37℃,相対湿度50％RH）\n",
    "c_air = 1.007   # [kJ/kg・K] （920hPa,37℃）\n",
    "cro_air = ro_air * c_air  #[kJ/m^3・K]"
   ]
  },
  {
   "cell_type": "code",
   "execution_count": 200,
   "metadata": {
    "collapsed": false
   },
   "outputs": [
    {
     "data": {
      "image/png": "[encoded data removed]",
      "text/plain": [
       "<matplotlib.figure.Figure at 0x15fffd1f320>"
      ]
     },
     "metadata": {},
     "output_type": "display_data"
    }
   ],
   "source": [
    "#壁(厚みは無視する)\n",
    "T_s = 30    #壁表面温度40度\n",
    "cro_s = 854 # [kJ/m^3・K]\n",
    "depth = 0.001  #厚み 0.001m\n",
    "S = 6 #面積 6m^2\n",
    "C_s = cro_s * 1000 * S * depth #6m^2,1mmのせっこうボードの熱容量[J/K]\n",
    "\n",
    "#空気\n",
    "T_f = 20  #空気温度 20度\n",
    "C_f = cro_air * 1000 * 10    #10m^3の空気熱容量[J/K]\n",
    "\n",
    "#c値\n",
    "#-----\n",
    "#暖房時の天井面または冷房時の床表面=2.67\n",
    "#暖房時の床表面または冷房時の天井面=0.64～0.87\n",
    "#垂直壁表面=1.98\n",
    "c = 1.98\n",
    "#自然対流熱伝達率\n",
    "def alpha_c_natural_ventilation(dT):\n",
    "    return c * math.pow(dT, 0.25) \n",
    "alpha_c = alpha_c_natural_ventilation\n",
    "\n",
    "#単位時間 dt[s]\n",
    "dt = 1\n",
    "\n",
    "data = []\n",
    "for i in range(2000):\n",
    "    #対流熱伝達[W/m2] = [J/s/m2]\n",
    "    dT = T_s - T_f\n",
    "    q = alpha_c(dT) * dT\n",
    "    U = q * S * dt\n",
    "    \n",
    "    #温度変化の計算\n",
    "    dT_s = - U * dt / C_s\n",
    "    dT_f = U * dt / C_f\n",
    "    T_s = T_s + dT_s\n",
    "    T_f = T_f + dT_f\n",
    "    data.append((i*dt, T_s, T_f))\n",
    "\n",
    "#表示\n",
    "x = [x[0] for x in data]\n",
    "plt.title(\"heat transfer\")\n",
    "plt.plot(x, [y[1] for y in data], label=\"T_s\")\n",
    "plt.plot(x, [y[2] for y in data], label=\"T_f\")\n",
    "#plt.ylim(0,50)\n",
    "plt.xlabel(\"elapsed[s]\")\n",
    "plt.ylabel(\"temperature [C]\")\n",
    "plt.legend(loc=\"lower right\")\n",
    "plt.show()"
   ]
  }
 ],
 "metadata": {
  "kernelspec": {
   "display_name": "Python [default]",
   "language": "python",
   "name": "python3"
  },
  "language_info": {
   "codemirror_mode": {
    "name": "ipython",
    "version": 3
   },
   "file_extension": ".py",
   "mimetype": "text/x-python",
   "name": "python",
   "nbconvert_exporter": "python",
   "pygments_lexer": "ipython3",
   "version": "3.5.2"
  }
 },
 "nbformat": 4,
 "nbformat_minor": 1
}
